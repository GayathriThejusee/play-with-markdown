{
 "cells": [
  {
   "cell_type": "markdown",
   "id": "bfe80865",
   "metadata": {},
   "source": [
    "# Data Science Tools and Ecosystem\n",
    "\n"
   ]
  },
  {
   "cell_type": "markdown",
   "id": "0068298c",
   "metadata": {},
   "source": [
    "In this notebook, Data Science Tools and Ecosystem are summarized.\n"
   ]
  },
  {
   "cell_type": "markdown",
   "id": "509ad3c0",
   "metadata": {},
   "source": [
    "__Objectives:__\n",
    "+ Popular Languages for Data Science\n",
    "+ Libraries used for Data Science\n",
    "+ Tools for Data Science\n",
    "+ Some Arithmetic Operation Examples"
   ]
  },
  {
   "cell_type": "markdown",
   "id": "d95a9df8",
   "metadata": {},
   "source": [
    "Some of the popular languages that Data Scientist use are:\n",
    "1. Python\n",
    "2. R\n",
    "3. SQL\n",
    "4. Javascript"
   ]
  },
  {
   "cell_type": "markdown",
   "id": "6c7b57d6",
   "metadata": {},
   "source": [
    "Some of the commonly used libraries by Data Scientist includes:\n",
    "1. numpy\n",
    "2. pandas\n",
    "3. matplotlib\n",
    "4. keras\n",
    "5. sklearn"
   ]
  },
  {
   "cell_type": "markdown",
   "id": "90d121c7",
   "metadata": {},
   "source": [
    "|Data Science Tools|\n",
    "-----------------------------\n",
    "|Apache Spark|\n",
    "|KNIME|\n",
    "|Jupyter Lab|\n",
    "|Watson Studio|\n",
    "|R Studio|\n"
   ]
  },
  {
   "cell_type": "markdown",
   "id": "be859849",
   "metadata": {},
   "source": [
    "### Below are a few examples of evaluating arithmetic expressions in Python"
   ]
  },
  {
   "cell_type": "code",
   "execution_count": 1,
   "id": "8dae5792",
   "metadata": {},
   "outputs": [
    {
     "data": {
      "text/plain": [
       "17"
      ]
     },
     "execution_count": 1,
     "metadata": {},
     "output_type": "execute_result"
    }
   ],
   "source": [
    "#This a simple arithmetic expression to mutiply then add integers\n",
    "(3*4)+5\n"
   ]
  },
  {
   "cell_type": "code",
   "execution_count": 4,
   "id": "9065502f",
   "metadata": {},
   "outputs": [
    {
     "name": "stdout",
     "output_type": "stream",
     "text": [
      "3\n"
     ]
    }
   ],
   "source": [
    "#This will convert 200 minutes to hours by diving by 60\n",
    "minutes=200\n",
    "hours=minutes//60\n",
    "print(hours)"
   ]
  },
  {
   "cell_type": "markdown",
   "id": "efb6d011",
   "metadata": {},
   "source": [
    "## Author\n",
    "Gayathri Thejusee S"
   ]
  },
  {
   "cell_type": "code",
   "execution_count": null,
   "id": "90517211",
   "metadata": {},
   "outputs": [],
   "source": []
  }
 ],
 "metadata": {
  "kernelspec": {
   "display_name": "Python 3 (ipykernel)",
   "language": "python",
   "name": "python3"
  },
  "language_info": {
   "codemirror_mode": {
    "name": "ipython",
    "version": 3
   },
   "file_extension": ".py",
   "mimetype": "text/x-python",
   "name": "python",
   "nbconvert_exporter": "python",
   "pygments_lexer": "ipython3",
   "version": "3.10.9"
  }
 },
 "nbformat": 4,
 "nbformat_minor": 5
}
